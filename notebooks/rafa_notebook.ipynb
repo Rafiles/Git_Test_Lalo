{
 "cells": [
  {
   "cell_type": "code",
   "execution_count": null,
   "id": "4e25bf4d",
   "metadata": {},
   "outputs": [],
   "source": [
    "import pandas as pd\n",
    "import sys"
   ]
  },
  {
   "cell_type": "code",
   "execution_count": null,
   "id": "4c5ca222",
   "metadata": {},
   "outputs": [
    {
     "name": "stdout",
     "output_type": "stream",
     "text": [
      "   Gender   Age  Height  Weight family_history_with_overweight FAVC  FCVC  \\\n",
      "0  Female  21.0    1.62    64.0                            yes   no   2.0   \n",
      "1  Female  21.0    1.52    56.0                            yes   no   3.0   \n",
      "2    Male  23.0    1.80    77.0                            yes   no   2.0   \n",
      "3    Male  27.0    1.80    87.0                             no   no   3.0   \n",
      "4    Male  22.0    1.78    89.8                             no   no   2.0   \n",
      "\n",
      "   NCP       CAEC SMOKE  CH2O  SCC  FAF  TUE        CALC  \\\n",
      "0  3.0  Sometimes    no   2.0   no  0.0  1.0          no   \n",
      "1  3.0  Sometimes   yes   3.0  yes  3.0  0.0   Sometimes   \n",
      "2  3.0  Sometimes    no   2.0   no  2.0  1.0  Frequently   \n",
      "3  3.0  Sometimes    no   2.0   no  2.0  0.0  Frequently   \n",
      "4  1.0  Sometimes    no   2.0   no  0.0  0.0   Sometimes   \n",
      "\n",
      "                  MTRANS           NObeyesdad  \n",
      "0  Public_Transportation        Normal_Weight  \n",
      "1  Public_Transportation        Normal_Weight  \n",
      "2  Public_Transportation        Normal_Weight  \n",
      "3                Walking   Overweight_Level_I  \n",
      "4  Public_Transportation  Overweight_Level_II  \n"
     ]
    }
   ],
   "source": [
    "import pandas as pd\n",
    "\n",
    "# Point to your file inside data/raw\n",
    "df = pd.read_csv(\"../data/raw/obesity_estimation_original.csv\")\n",
    "\n",
    "# Inspect\n",
    "print(df.head())"
   ]
  },
  {
   "cell_type": "code",
   "execution_count": null,
   "id": "620ba1cb",
   "metadata": {},
   "outputs": [],
   "source": [
    "df = df.dropna()\n",
    "print(f\"Eliminando los registros nulos, nos quedan {len(df)}.\")\n",
    "print(\"O sea que no tenemos registros nulos\")"
   ]
  },
  {
   "cell_type": "code",
   "execution_count": 2,
   "id": "2705f4e8",
   "metadata": {},
   "outputs": [
    {
     "name": "stdout",
     "output_type": "stream",
     "text": [
      "Vamos a crear un dataframe que solo contenga hombres\n",
      "  Gender   Age  Height  Weight family_history_with_overweight FAVC  FCVC  NCP  \\\n",
      "2   Male  23.0    1.80    77.0                            yes   no   2.0  3.0   \n",
      "3   Male  27.0    1.80    87.0                             no   no   3.0  3.0   \n",
      "4   Male  22.0    1.78    89.8                             no   no   2.0  1.0   \n",
      "5   Male  29.0    1.62    53.0                             no  yes   2.0  3.0   \n",
      "7   Male  22.0    1.64    53.0                             no   no   2.0  3.0   \n",
      "\n",
      "        CAEC SMOKE  CH2O SCC  FAF  TUE        CALC                 MTRANS  \\\n",
      "2  Sometimes    no   2.0  no  2.0  1.0  Frequently  Public_Transportation   \n",
      "3  Sometimes    no   2.0  no  2.0  0.0  Frequently                Walking   \n",
      "4  Sometimes    no   2.0  no  0.0  0.0   Sometimes  Public_Transportation   \n",
      "5  Sometimes    no   2.0  no  0.0  0.0   Sometimes             Automobile   \n",
      "7  Sometimes    no   2.0  no  3.0  0.0   Sometimes  Public_Transportation   \n",
      "\n",
      "            NObeyesdad  \n",
      "2        Normal_Weight  \n",
      "3   Overweight_Level_I  \n",
      "4  Overweight_Level_II  \n",
      "5        Normal_Weight  \n",
      "7        Normal_Weight  \n"
     ]
    }
   ],
   "source": [
    "print(\"Vamos a crear un dataframe que solo contenga hombres\")\n",
    "df_males = df[df[\"Gender\"] != \"Female\"]\n",
    "print(df_males.head())"
   ]
  },
  {
   "cell_type": "code",
   "execution_count": 3,
   "id": "53d42509",
   "metadata": {},
   "outputs": [],
   "source": [
    "df_males.to_csv(\"../data/processed/males.csv\", index=False)"
   ]
  },
  {
   "cell_type": "code",
   "execution_count": null,
   "id": "6d540397",
   "metadata": {},
   "outputs": [],
   "source": []
  }
 ],
 "metadata": {
  "kernelspec": {
   "display_name": "venv_lalo (3.13.7)",
   "language": "python",
   "name": "python3"
  },
  "language_info": {
   "codemirror_mode": {
    "name": "ipython",
    "version": 3
   },
   "file_extension": ".py",
   "mimetype": "text/x-python",
   "name": "python",
   "nbconvert_exporter": "python",
   "pygments_lexer": "ipython3",
   "version": "3.13.7"
  }
 },
 "nbformat": 4,
 "nbformat_minor": 5
}
