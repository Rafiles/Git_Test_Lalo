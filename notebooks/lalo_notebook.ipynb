{
 "cells": [
  {
   "cell_type": "code",
   "execution_count": null,
   "id": "66580da1",
   "metadata": {},
   "outputs": [],
   "source": [
    "import pandas as pd\n",
    "import sys"
   ]
  },
  {
   "cell_type": "code",
   "execution_count": 3,
   "id": "102dfde8",
   "metadata": {},
   "outputs": [
    {
     "name": "stdout",
     "output_type": "stream",
     "text": [
      "   Gender   Age  Height  Weight family_history_with_overweight FAVC  FCVC  \\\n",
      "0  Female  21.0    1.62    64.0                            yes   no   2.0   \n",
      "1  Female  21.0    1.52    56.0                            yes   no   3.0   \n",
      "2    Male  23.0    1.80    77.0                            yes   no   2.0   \n",
      "3    Male  27.0    1.80    87.0                             no   no   3.0   \n",
      "4    Male  22.0    1.78    89.8                             no   no   2.0   \n",
      "\n",
      "   NCP       CAEC SMOKE  CH2O  SCC  FAF  TUE        CALC  \\\n",
      "0  3.0  Sometimes    no   2.0   no  0.0  1.0          no   \n",
      "1  3.0  Sometimes   yes   3.0  yes  3.0  0.0   Sometimes   \n",
      "2  3.0  Sometimes    no   2.0   no  2.0  1.0  Frequently   \n",
      "3  3.0  Sometimes    no   2.0   no  2.0  0.0  Frequently   \n",
      "4  1.0  Sometimes    no   2.0   no  0.0  0.0   Sometimes   \n",
      "\n",
      "                  MTRANS           NObeyesdad  \n",
      "0  Public_Transportation        Normal_Weight  \n",
      "1  Public_Transportation        Normal_Weight  \n",
      "2  Public_Transportation        Normal_Weight  \n",
      "3                Walking   Overweight_Level_I  \n",
      "4  Public_Transportation  Overweight_Level_II  \n"
     ]
    }
   ],
   "source": [
    "import pandas as pd\n",
    "\n",
    "# Point to your file inside data/raw\n",
    "df = pd.read_csv(\"../data/raw/obesity_estimation_original.csv\")\n",
    "\n",
    "# Inspect\n",
    "print(df.head())"
   ]
  },
  {
   "cell_type": "code",
   "execution_count": 4,
   "id": "cc01a42a",
   "metadata": {},
   "outputs": [
    {
     "name": "stdout",
     "output_type": "stream",
     "text": [
      "El dataset original contiene 2111 registros.\n"
     ]
    }
   ],
   "source": [
    "print(f\"El dataset original contiene {len(df)} registros.\")"
   ]
  },
  {
   "cell_type": "code",
   "execution_count": 10,
   "id": "a1a958ee",
   "metadata": {},
   "outputs": [
    {
     "name": "stdout",
     "output_type": "stream",
     "text": [
      "Eliminando los registros nulos, nos quedan 2111.\n",
      "O sea que no tenemos registros nulos\n"
     ]
    }
   ],
   "source": [
    "df = df.dropna()\n",
    "print(f\"Eliminando los registros nulos, nos quedan {len(df)}.\")\n",
    "print(\"O sea que no tenemos registros nulos\")"
   ]
  },
  {
   "cell_type": "code",
   "execution_count": 6,
   "id": "0f63b171",
   "metadata": {},
   "outputs": [
    {
     "name": "stdout",
     "output_type": "stream",
     "text": [
      "Gender\n",
      "Male      1068\n",
      "Female    1043\n",
      "Name: count, dtype: int64\n"
     ]
    }
   ],
   "source": [
    "print(df[\"Gender\"].value_counts())"
   ]
  },
  {
   "cell_type": "code",
   "execution_count": 16,
   "id": "c6c2b9dd",
   "metadata": {},
   "outputs": [
    {
     "name": "stdout",
     "output_type": "stream",
     "text": [
      "Vamos a crear un dataframe que solo contenga mujeres\n",
      "    Gender   Age  Height  Weight family_history_with_overweight FAVC  FCVC  \\\n",
      "0   Female  21.0    1.62    64.0                            yes   no   2.0   \n",
      "1   Female  21.0    1.52    56.0                            yes   no   3.0   \n",
      "6   Female  23.0    1.50    55.0                            yes  yes   3.0   \n",
      "11  Female  21.0    1.72    80.0                            yes  yes   2.0   \n",
      "15  Female  22.0    1.70    66.0                            yes   no   3.0   \n",
      "\n",
      "    NCP        CAEC SMOKE  CH2O  SCC  FAF  TUE       CALC  \\\n",
      "0   3.0   Sometimes    no   2.0   no  0.0  1.0         no   \n",
      "1   3.0   Sometimes   yes   3.0  yes  3.0  0.0  Sometimes   \n",
      "6   3.0   Sometimes    no   2.0   no  1.0  0.0  Sometimes   \n",
      "11  3.0  Frequently    no   2.0  yes  2.0  1.0  Sometimes   \n",
      "15  3.0      Always    no   2.0  yes  2.0  1.0  Sometimes   \n",
      "\n",
      "                   MTRANS           NObeyesdad  \n",
      "0   Public_Transportation        Normal_Weight  \n",
      "1   Public_Transportation        Normal_Weight  \n",
      "6               Motorbike        Normal_Weight  \n",
      "11  Public_Transportation  Overweight_Level_II  \n",
      "15  Public_Transportation        Normal_Weight  \n"
     ]
    }
   ],
   "source": [
    "print(\"Vamos a crear un dataframe que solo contenga mujeres\")\n",
    "df_females = df[df[\"Gender\"] != \"Male\"]\n",
    "print(df_females.head())"
   ]
  },
  {
   "cell_type": "code",
   "execution_count": 19,
   "id": "8d09f2bd",
   "metadata": {},
   "outputs": [],
   "source": [
    "df_females.to_csv(\"../data/processed/females.csv\", index=False)"
   ]
  },
  {
   "cell_type": "code",
   "execution_count": null,
   "id": "29c07e2c",
   "metadata": {},
   "outputs": [],
   "source": []
  }
 ],
 "metadata": {
  "kernelspec": {
   "display_name": "Python 3",
   "language": "python",
   "name": "python3"
  },
  "language_info": {
   "codemirror_mode": {
    "name": "ipython",
    "version": 3
   },
   "file_extension": ".py",
   "mimetype": "text/x-python",
   "name": "python",
   "nbconvert_exporter": "python",
   "pygments_lexer": "ipython3",
   "version": "3.9.6"
  }
 },
 "nbformat": 4,
 "nbformat_minor": 5
}
